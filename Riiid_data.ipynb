{
  "nbformat": 4,
  "nbformat_minor": 0,
  "metadata": {
    "colab": {
      "name": "Riiid_data.ipynb",
      "provenance": [],
      "collapsed_sections": [],
      "authorship_tag": "ABX9TyP1vrSJ8ZWvDrbPgE6O/vQA",
      "include_colab_link": true
    },
    "kernelspec": {
      "name": "python3",
      "display_name": "Python 3"
    }
  },
  "cells": [
    {
      "cell_type": "markdown",
      "metadata": {
        "id": "view-in-github",
        "colab_type": "text"
      },
      "source": [
        "<a href=\"https://colab.research.google.com/github/ajenningsfrankston/Dynamic-Memory-Network-Plus-master/blob/master/Riiid_data.ipynb\" target=\"_parent\"><img src=\"https://colab.research.google.com/assets/colab-badge.svg\" alt=\"Open In Colab\"/></a>"
      ]
    },
    {
      "cell_type": "code",
      "metadata": {
        "id": "tMqcqV89tLs-"
      },
      "source": [
        "import pandas as pd\n",
        "import numpy as np\n",
        "from sklearn.metrics import roc_auc_score\n",
        "\n",
        "import os,shutil, random \n",
        "\n"
      ],
      "execution_count": 13,
      "outputs": []
    },
    {
      "cell_type": "code",
      "metadata": {
        "colab": {
          "base_uri": "https://localhost:8080/"
        },
        "id": "IcaPFhBUpLYF",
        "outputId": "015bff96-9367-4f14-b79b-a8d0f770b126"
      },
      "source": [
        "!pip install -q kaggle\n",
        "\n",
        "from google.colab import drive\n",
        "drive.mount('/content/gdrive')\n",
        "\n",
        "import os\n",
        "os.environ['KAGGLE_CONFIG_DIR'] = \"/content/gdrive/My Drive/Kaggle\"\n",
        "\n",
        "!kaggle competitions download  -c riiid-test-answer-prediction \n"
      ],
      "execution_count": 4,
      "outputs": [
        {
          "output_type": "stream",
          "text": [
            "Drive already mounted at /content/gdrive; to attempt to forcibly remount, call drive.mount(\"/content/gdrive\", force_remount=True).\n"
          ],
          "name": "stdout"
        }
      ]
    },
    {
      "cell_type": "code",
      "metadata": {
        "id": "FEySuR069tBs"
      },
      "source": [
        "\n",
        "\n",
        "if not os.path.exists('../input/riiid-test-answer-prediction'):\n",
        "    os.makedirs('../input/riiid-test-answer-prediction')\n",
        "\n",
        "import zipfile\n",
        "\n",
        "with zipfile.ZipFile('train.csv.zip', 'r') as zip_ref:\n",
        "    zip_ref.extractall('../input/riiid-test-answer-prediction')\n",
        "\n",
        "\n",
        "if os.path.exists('train.csv'):\n",
        "    os.remove('train.csv')\n"
      ],
      "execution_count": 6,
      "outputs": []
    },
    {
      "cell_type": "code",
      "metadata": {
        "colab": {
          "base_uri": "https://localhost:8080/"
        },
        "id": "0CEBTtxgEHWQ",
        "outputId": "f80c53fd-0b4f-44f5-8831-037451a8e832"
      },
      "source": [
        "!pwd"
      ],
      "execution_count": 7,
      "outputs": [
        {
          "output_type": "stream",
          "text": [
            "/content\n"
          ],
          "name": "stdout"
        }
      ]
    },
    {
      "cell_type": "code",
      "metadata": {
        "colab": {
          "base_uri": "https://localhost:8080/"
        },
        "id": "y0PQog2tBOM4",
        "outputId": "d6366ced-f9b5-4b4a-eee1-3f189f1f0f1b"
      },
      "source": [
        "    \n",
        "source_dir = './'\n",
        "target_dir = '../input/riiid-test-answer-prediction'\n",
        "    \n",
        "file_names = ['lectures.csv','questions.csv','example_test.csv','example_sample_submission.csv']\n",
        "    \n",
        "for file_name in file_names:\n",
        "    if not os.path.exists(target_dir + '/' + file_name):\n",
        "        shutil.move(os.path.join(source_dir, file_name), target_dir)\n",
        "\n",
        "os.listdir('../input/riiid-test-answer-prediction')\n"
      ],
      "execution_count": 9,
      "outputs": [
        {
          "output_type": "execute_result",
          "data": {
            "text/plain": [
              "['example_test.csv',\n",
              " 'example_sample_submission.csv',\n",
              " 'train.csv',\n",
              " 'questions.csv',\n",
              " 'lectures.csv']"
            ]
          },
          "metadata": {
            "tags": []
          },
          "execution_count": 9
        }
      ]
    },
    {
      "cell_type": "markdown",
      "metadata": {
        "id": "kCM6k6bo6-Wj"
      },
      "source": [
        "need to create the test set (split train into train/test) before we do the validation creation. From the notebook \"Riiid: Creating a test dataset\"\n",
        "\n"
      ]
    },
    {
      "cell_type": "code",
      "metadata": {
        "id": "MdmjbdgRr_U7"
      },
      "source": [
        "def dataset_split(df, q=0.975, print_timestamps=False):\n",
        "    max_timestamp_per_user = df[['user_id','timestamp']].groupby('user_id').max()\n",
        "    max_timestamp = max_timestamp_per_user.timestamp.max()\n",
        "    max_timestamp_per_user['initial_timestamp'] = ((max_timestamp-max_timestamp_per_user.timestamp)*np.random.random(size=len(max_timestamp_per_user))).astype('uint64')\n",
        "    timestamps_df = pd.merge(df[['user_id','timestamp']],max_timestamp_per_user['initial_timestamp'],left_on='user_id',right_index=True)\n",
        "    timestamps_df['modified_timestamp'] = (timestamps_df.initial_timestamp+timestamps_df.timestamp).astype('uint64')\n",
        "    if print_timestamps:\n",
        "        print(timestamps_df)\n",
        "    ordered_rows = timestamps_df.modified_timestamp.values.argsort()\n",
        "    # calculate quantiles\n",
        "    quantiles = (np.array(q)*len(ordered_rows)).astype('uint64')\n",
        "    if type(q)==list:\n",
        "        idx_list = []\n",
        "        min_idx=0\n",
        "        for quantile in quantiles:\n",
        "            idx_list.append(ordered_rows[min_idx:quantile])\n",
        "            min_idx=quantile\n",
        "        idx_list.append(ordered_rows[min_idx:])\n",
        "        return idx_list\n",
        "    else:\n",
        "        return [ordered_rows[:quantiles], ordered_rows[quantiles:]]\n",
        "\n"
      ],
      "execution_count": 10,
      "outputs": []
    },
    {
      "cell_type": "code",
      "metadata": {
        "colab": {
          "base_uri": "https://localhost:8080/"
        },
        "id": "pTNyXTfbyn5u",
        "outputId": "985cd5fd-a49d-4592-e2c6-fda64014c8e6"
      },
      "source": [
        "%%time \n",
        "\n",
        "data = pd.read_csv('../input/riiid-test-answer-prediction/train.csv',\n",
        "                   dtype={'row_id': 'int64',\n",
        "                          'timestamp': 'int64',\n",
        "                          'user_id': 'int32',\n",
        "                          'content_id': 'int16',\n",
        "                          'content_type_id': 'int8',\n",
        "                          'task_container_id': 'int16',\n",
        "                          'user_answer': 'int8',\n",
        "                          'answered_correctly':'int8',\n",
        "                          'prior_question_elapsed_time': 'float32',\n",
        "                          'prior_question_had_explanation': 'boolean'\n",
        "                         })"
      ],
      "execution_count": 15,
      "outputs": [
        {
          "output_type": "stream",
          "text": [
            "CPU times: user 2min 25s, sys: 13 s, total: 2min 38s\n",
            "Wall time: 2min 40s\n"
          ],
          "name": "stdout"
        }
      ]
    },
    {
      "cell_type": "code",
      "metadata": {
        "colab": {
          "base_uri": "https://localhost:8080/"
        },
        "id": "QeyG1jS8tYkV",
        "outputId": "907a9ca5-c2e7-433b-9037-f638f6eb10fe"
      },
      "source": [
        "np.random.seed(49)\n",
        "train_idx, test_idx = dataset_split(data, q=0.25, print_timestamps=True)"
      ],
      "execution_count": 16,
      "outputs": [
        {
          "output_type": "stream",
          "text": [
            "              user_id  timestamp  initial_timestamp  modified_timestamp\n",
            "0                 115          0        26110978556         26110978556\n",
            "1                 115      56943        26110978556         26111035499\n",
            "2                 115     118363        26110978556         26111096919\n",
            "3                 115     131167        26110978556         26111109723\n",
            "4                 115     137965        26110978556         26111116521\n",
            "...               ...        ...                ...                 ...\n",
            "101230327  2147482888  428564420         1942710825          2371275245\n",
            "101230328  2147482888  428585000         1942710825          2371295825\n",
            "101230329  2147482888  428613475         1942710825          2371324300\n",
            "101230330  2147482888  428649406         1942710825          2371360231\n",
            "101230331  2147482888  428692118         1942710825          2371402943\n",
            "\n",
            "[101230332 rows x 4 columns]\n"
          ],
          "name": "stdout"
        }
      ]
    },
    {
      "cell_type": "code",
      "metadata": {
        "colab": {
          "base_uri": "https://localhost:8080/",
          "height": 436
        },
        "id": "QRzzMwTttflp",
        "outputId": "20d2b919-9f93-4f12-a377-46e48355f98b"
      },
      "source": [
        "print(train_idx,test_idx)\n",
        "\n",
        "train_df = data.iloc[train_idx]\n",
        "train_df\n",
        "\n",
        "test_df = data.iloc[test_idx]\n",
        "test_df\n",
        "\n"
      ],
      "execution_count": 18,
      "outputs": [
        {
          "output_type": "stream",
          "text": [
            "[32933156 32933157 32933158 ... 98726965 46494984 13161058] [100264781   7982876   7982875 ...  18511028  18511029  32938743]\n"
          ],
          "name": "stdout"
        },
        {
          "output_type": "execute_result",
          "data": {
            "text/html": [
              "<div>\n",
              "<style scoped>\n",
              "    .dataframe tbody tr th:only-of-type {\n",
              "        vertical-align: middle;\n",
              "    }\n",
              "\n",
              "    .dataframe tbody tr th {\n",
              "        vertical-align: top;\n",
              "    }\n",
              "\n",
              "    .dataframe thead th {\n",
              "        text-align: right;\n",
              "    }\n",
              "</style>\n",
              "<table border=\"1\" class=\"dataframe\">\n",
              "  <thead>\n",
              "    <tr style=\"text-align: right;\">\n",
              "      <th></th>\n",
              "      <th>row_id</th>\n",
              "      <th>timestamp</th>\n",
              "      <th>user_id</th>\n",
              "      <th>content_id</th>\n",
              "      <th>content_type_id</th>\n",
              "      <th>task_container_id</th>\n",
              "      <th>user_answer</th>\n",
              "      <th>answered_correctly</th>\n",
              "      <th>prior_question_elapsed_time</th>\n",
              "      <th>prior_question_had_explanation</th>\n",
              "    </tr>\n",
              "  </thead>\n",
              "  <tbody>\n",
              "    <tr>\n",
              "      <th>100264781</th>\n",
              "      <td>100264781</td>\n",
              "      <td>1808204</td>\n",
              "      <td>2128229377</td>\n",
              "      <td>152</td>\n",
              "      <td>0</td>\n",
              "      <td>8</td>\n",
              "      <td>2</td>\n",
              "      <td>0</td>\n",
              "      <td>24000.0</td>\n",
              "      <td>False</td>\n",
              "    </tr>\n",
              "    <tr>\n",
              "      <th>7982876</th>\n",
              "      <td>7982876</td>\n",
              "      <td>23805166242</td>\n",
              "      <td>173373240</td>\n",
              "      <td>2370</td>\n",
              "      <td>0</td>\n",
              "      <td>608</td>\n",
              "      <td>2</td>\n",
              "      <td>0</td>\n",
              "      <td>26000.0</td>\n",
              "      <td>True</td>\n",
              "    </tr>\n",
              "    <tr>\n",
              "      <th>7982875</th>\n",
              "      <td>7982875</td>\n",
              "      <td>23805166242</td>\n",
              "      <td>173373240</td>\n",
              "      <td>2368</td>\n",
              "      <td>0</td>\n",
              "      <td>608</td>\n",
              "      <td>3</td>\n",
              "      <td>1</td>\n",
              "      <td>26000.0</td>\n",
              "      <td>True</td>\n",
              "    </tr>\n",
              "    <tr>\n",
              "      <th>7982874</th>\n",
              "      <td>7982874</td>\n",
              "      <td>23805166242</td>\n",
              "      <td>173373240</td>\n",
              "      <td>2369</td>\n",
              "      <td>0</td>\n",
              "      <td>608</td>\n",
              "      <td>0</td>\n",
              "      <td>1</td>\n",
              "      <td>26000.0</td>\n",
              "      <td>True</td>\n",
              "    </tr>\n",
              "    <tr>\n",
              "      <th>93583296</th>\n",
              "      <td>93583296</td>\n",
              "      <td>644848044</td>\n",
              "      <td>1986571669</td>\n",
              "      <td>3455</td>\n",
              "      <td>0</td>\n",
              "      <td>284</td>\n",
              "      <td>1</td>\n",
              "      <td>1</td>\n",
              "      <td>23333.0</td>\n",
              "      <td>True</td>\n",
              "    </tr>\n",
              "    <tr>\n",
              "      <th>...</th>\n",
              "      <td>...</td>\n",
              "      <td>...</td>\n",
              "      <td>...</td>\n",
              "      <td>...</td>\n",
              "      <td>...</td>\n",
              "      <td>...</td>\n",
              "      <td>...</td>\n",
              "      <td>...</td>\n",
              "      <td>...</td>\n",
              "      <td>...</td>\n",
              "    </tr>\n",
              "    <tr>\n",
              "      <th>18511026</th>\n",
              "      <td>18511026</td>\n",
              "      <td>22386599451</td>\n",
              "      <td>397841566</td>\n",
              "      <td>3998</td>\n",
              "      <td>0</td>\n",
              "      <td>2497</td>\n",
              "      <td>1</td>\n",
              "      <td>1</td>\n",
              "      <td>12000.0</td>\n",
              "      <td>True</td>\n",
              "    </tr>\n",
              "    <tr>\n",
              "      <th>18511027</th>\n",
              "      <td>18511027</td>\n",
              "      <td>22386635812</td>\n",
              "      <td>397841566</td>\n",
              "      <td>13363</td>\n",
              "      <td>0</td>\n",
              "      <td>2498</td>\n",
              "      <td>2</td>\n",
              "      <td>1</td>\n",
              "      <td>15000.0</td>\n",
              "      <td>True</td>\n",
              "    </tr>\n",
              "    <tr>\n",
              "      <th>18511028</th>\n",
              "      <td>18511028</td>\n",
              "      <td>22386667282</td>\n",
              "      <td>397841566</td>\n",
              "      <td>4344</td>\n",
              "      <td>0</td>\n",
              "      <td>2499</td>\n",
              "      <td>1</td>\n",
              "      <td>1</td>\n",
              "      <td>19000.0</td>\n",
              "      <td>True</td>\n",
              "    </tr>\n",
              "    <tr>\n",
              "      <th>18511029</th>\n",
              "      <td>18511029</td>\n",
              "      <td>22386699460</td>\n",
              "      <td>397841566</td>\n",
              "      <td>11428</td>\n",
              "      <td>0</td>\n",
              "      <td>2500</td>\n",
              "      <td>3</td>\n",
              "      <td>0</td>\n",
              "      <td>14000.0</td>\n",
              "      <td>True</td>\n",
              "    </tr>\n",
              "    <tr>\n",
              "      <th>32938743</th>\n",
              "      <td>32938743</td>\n",
              "      <td>87425772049</td>\n",
              "      <td>705741139</td>\n",
              "      <td>12040</td>\n",
              "      <td>0</td>\n",
              "      <td>3394</td>\n",
              "      <td>1</td>\n",
              "      <td>1</td>\n",
              "      <td>16000.0</td>\n",
              "      <td>True</td>\n",
              "    </tr>\n",
              "  </tbody>\n",
              "</table>\n",
              "<p>75922749 rows × 10 columns</p>\n",
              "</div>"
            ],
            "text/plain": [
              "              row_id  ...  prior_question_had_explanation\n",
              "100264781  100264781  ...                           False\n",
              "7982876      7982876  ...                            True\n",
              "7982875      7982875  ...                            True\n",
              "7982874      7982874  ...                            True\n",
              "93583296    93583296  ...                            True\n",
              "...              ...  ...                             ...\n",
              "18511026    18511026  ...                            True\n",
              "18511027    18511027  ...                            True\n",
              "18511028    18511028  ...                            True\n",
              "18511029    18511029  ...                            True\n",
              "32938743    32938743  ...                            True\n",
              "\n",
              "[75922749 rows x 10 columns]"
            ]
          },
          "metadata": {
            "tags": []
          },
          "execution_count": 18
        }
      ]
    },
    {
      "cell_type": "markdown",
      "metadata": {
        "id": "OAXqBJUgt0oh"
      },
      "source": [
        "Test generator for emulating the riiid test environment. \n"
      ]
    },
    {
      "cell_type": "code",
      "metadata": {
        "id": "_3iYOsJbtnmb"
      },
      "source": [
        "class TestGenerator:\n",
        "    def __init__(self, df, grp_size=[1000,100]):\n",
        "        self.df = df\n",
        "        self.answered_correctly = self.df.answered_correctly.values\n",
        "        self.predictions = np.zeros(len(self.answered_correctly))\n",
        "        self.grp_size = grp_size\n",
        "        self.start_idx=0\n",
        "        self.prediction_called = True\n",
        "        self.test_cols = [c for c in df.columns if c not in ['answered_correctly','user_answer']]\n",
        "        self.current_batch = {'prior_group_answers_correct':[], 'prior_group_responses':[]}\n",
        "\n",
        "    def iter_test(self):\n",
        "        while self.start_idx<len(self.df):\n",
        "            assert self.prediction_called, \"You must call `predict()` successfully before you can continue with `iter_test()`\"\n",
        "            self.prediction_called = False\n",
        "            self.end_idx = int(self.start_idx + max(1,np.random.normal(self.grp_size[0],self.grp_size[1])))\n",
        "            test_df = self.df.iloc[self.start_idx:self.end_idx]\n",
        "            answered_correctly_previous_batch = list(test_df['answered_correctly'])\n",
        "            user_answer_previous_batch = list(test_df['user_answer'])\n",
        "            test_df = test_df[self.test_cols]\n",
        "            test_df['prior_group_answers_correct'] = None\n",
        "            test_df['prior_group_responses'] = None\n",
        "            test_df.loc[test_df.index[0],'prior_group_answers_correct'] = str(self.current_batch['prior_group_answers_correct'])\n",
        "            test_df.loc[test_df.index[0],'prior_group_responses'] = str(self.current_batch['prior_group_responses'])\n",
        "            self.current_batch['prior_group_answers_correct'] = answered_correctly_previous_batch\n",
        "            self.current_batch['prior_group_responses'] = user_answer_previous_batch\n",
        "            yield test_df\n",
        "\n",
        "    def predict(self, prediction_df):\n",
        "        assert not self.prediction_called, \"You must get the next test sample from `iter_test()` first.\"\n",
        "        self.predictions[self.start_idx:self.end_idx] = prediction_df.answered_correctly\n",
        "        self.start_idx = self.end_idx\n",
        "        self.prediction_called = True\n",
        "        if self.end_idx>=len(self.df):\n",
        "            print(\"Final AUC score: {0}\".format(roc_auc_score(self.answered_correctly,self.predictions)))\n",
        "\n",
        "      "
      ],
      "execution_count": 11,
      "outputs": []
    },
    {
      "cell_type": "markdown",
      "metadata": {
        "id": "lZKccW30OH8F"
      },
      "source": [
        "Notebook \"train-val-split on subset of users\" "
      ]
    },
    {
      "cell_type": "markdown",
      "metadata": {
        "id": "xXvOEC-1Nmjr"
      },
      "source": [
        "**Have a (random) subset of users' data to enable quick model experiments, split into train, val w/o much hassle**\n",
        "\n",
        "principles:\n",
        "* keep each user's time course healthy, i.e. do not downsample for the sake of smaller data\n",
        "* first part of time course should go into train - remaining part into val\n",
        "* across users, have a fixed portion go into train and val, respectively"
      ]
    },
    {
      "cell_type": "code",
      "metadata": {
        "trusted": true,
        "id": "sXmQaKvjNmjr"
      },
      "source": [
        "import pandas as pd\n",
        "import random\n",
        "\n",
        "random.seed(33)\n",
        "\n",
        "fraction_users = 0.001\n",
        "split = 0.8"
      ],
      "execution_count": null,
      "outputs": []
    },
    {
      "cell_type": "markdown",
      "metadata": {
        "id": "ACeXnNNdNmjr"
      },
      "source": [
        "take a subset of users"
      ]
    },
    {
      "cell_type": "code",
      "metadata": {
        "trusted": true,
        "id": "xxSrsreKNmjr"
      },
      "source": [
        "users = data.user_id.unique()\n",
        "no_users_sample = int(round(len(users)*fraction_users,0))\n",
        "\n",
        "print(f'no. of unique users: {len(users)}')\n",
        "print(f'no. of users in sample: {no_users_sample}')\n",
        "\n",
        "users = random.sample(list(users), no_users_sample)\n",
        "mask = data.user_id.isin(users)\n",
        "data = data[mask]"
      ],
      "execution_count": null,
      "outputs": []
    },
    {
      "cell_type": "markdown",
      "metadata": {
        "id": "hJbzFRCANmjr"
      },
      "source": [
        "get xth percentile of timestamp, to prepare split"
      ]
    },
    {
      "cell_type": "code",
      "metadata": {
        "trusted": true,
        "id": "6mhuIH2bNmjr"
      },
      "source": [
        "my_planet = data[['timestamp', 'user_id']].groupby('user_id').quantile(split).reset_index()"
      ],
      "execution_count": null,
      "outputs": []
    },
    {
      "cell_type": "markdown",
      "metadata": {
        "id": "3jMppVENNmjr"
      },
      "source": [
        "mark rows with train, val flag"
      ]
    },
    {
      "cell_type": "code",
      "metadata": {
        "trusted": true,
        "id": "WCLgQCV7Nmjr"
      },
      "source": [
        "# https://stackoverflow.com/questions/20625582/how-to-deal-with-settingwithcopywarning-in-pandas\n",
        "pd.options.mode.chained_assignment = None\n",
        "\n",
        "data['split'] = 'na'\n",
        "\n",
        "for i in range(len(data)):\n",
        "    current_user = data.user_id.iloc[i]\n",
        "    percentile = float(my_planet.timestamp[my_planet.user_id==current_user])\n",
        "    if data.timestamp.iloc[i] <= percentile:\n",
        "        data.split.iloc[i] = 'train'\n",
        "    else:\n",
        "        data.split.iloc[i] = 'val'\n"
      ],
      "execution_count": null,
      "outputs": []
    },
    {
      "cell_type": "markdown",
      "metadata": {
        "id": "a840j6DgNmjr"
      },
      "source": [
        "split"
      ]
    },
    {
      "cell_type": "code",
      "metadata": {
        "trusted": true,
        "id": "igA7QyY3Nmjr"
      },
      "source": [
        "train = data[data.split == 'train']\n",
        "val = data[data.split == 'val']\n",
        "\n",
        "train = train.drop('split', axis=1)\n",
        "val = val.drop('split', axis=1)"
      ],
      "execution_count": null,
      "outputs": []
    },
    {
      "cell_type": "markdown",
      "metadata": {
        "id": "G6k4_szkNmjr"
      },
      "source": [
        "check properties for train and val"
      ]
    },
    {
      "cell_type": "code",
      "metadata": {
        "trusted": true,
        "id": "UdaywCiUNmjr"
      },
      "source": [
        "print(f'no. of users in train: {len(train.user_id.unique())}')\n",
        "print(f'no. of users in val: {len(val.user_id.unique())}')\n",
        "print('-> should be the same')\n",
        "print(f'no. of records in train: {len(train)}')\n",
        "print(f'no. of records in val: {len(val)}')"
      ],
      "execution_count": null,
      "outputs": []
    },
    {
      "cell_type": "markdown",
      "metadata": {
        "id": "X3opWGZUNmjr"
      },
      "source": [
        "oops - what's this?"
      ]
    },
    {
      "cell_type": "code",
      "metadata": {
        "trusted": true,
        "id": "it33pld2Nmjr"
      },
      "source": [
        "train_ids = set(train['user_id'].unique())\n",
        "val_ids = set(val['user_id'].unique()) \n",
        "cnt=0\n",
        "\n",
        "missing_ids = train_ids - val_ids\n",
        "\n",
        "for id in missing_ids:\n",
        "    print(data[['timestamp', 'user_id']][data['user_id']==id])"
      ],
      "execution_count": null,
      "outputs": []
    },
    {
      "cell_type": "markdown",
      "metadata": {
        "id": "hBL8hmn9Nmjs"
      },
      "source": [
        "interesting that there are a number of entries with equal timestamp for this user. But for now let us remove them just from train, val"
      ]
    },
    {
      "cell_type": "code",
      "metadata": {
        "trusted": true,
        "id": "YnoTlQr9Nmjs"
      },
      "source": [
        "train = train[~train.user_id.isin(missing_ids)]"
      ],
      "execution_count": null,
      "outputs": []
    },
    {
      "cell_type": "markdown",
      "metadata": {
        "id": "8AMvv90sNmjs"
      },
      "source": [
        "check again"
      ]
    },
    {
      "cell_type": "code",
      "metadata": {
        "trusted": true,
        "id": "CdjOMK97Nmjs"
      },
      "source": [
        "print(f'no. of users in train: {len(train.user_id.unique())}')\n",
        "print(f'no. of users in val: {len(val.user_id.unique())}')\n",
        "print('-> should be the same')\n",
        "print(f'no. of records in train: {len(train)}')\n",
        "print(f'no. of records in val: {len(val)}')"
      ],
      "execution_count": null,
      "outputs": []
    },
    {
      "cell_type": "markdown",
      "metadata": {
        "id": "u7LQfORUNmjs"
      },
      "source": [
        "look at mean, standard deviation"
      ]
    },
    {
      "cell_type": "code",
      "metadata": {
        "trusted": true,
        "id": "jFO8B2ohNmjs"
      },
      "source": [
        "valid_question = val[val.content_type_id == 0]\n",
        "train_question = train[train.content_type_id == 0]\n",
        "\n",
        "print(f'accuracy of answering in train: {round(train_question.answered_correctly.mean(), 2)} (stdev={round(train_question.answered_correctly.std(), 2)})')\n",
        "print(f'accuracy of answering in val: {round(valid_question.answered_correctly.mean(), 2)} (stdev={round(valid_question.answered_correctly.std(), 2)})')"
      ],
      "execution_count": null,
      "outputs": []
    },
    {
      "cell_type": "code",
      "metadata": {
        "id": "q8ZNo-2BOjr4"
      },
      "source": [
        "if not os.path.exists('../working'):\n",
        "    os.makedirs('../working')\n"
      ],
      "execution_count": null,
      "outputs": []
    },
    {
      "cell_type": "markdown",
      "metadata": {
        "id": "kCkWldZ1Nmjs"
      },
      "source": [
        "write train, val to csv files"
      ]
    },
    {
      "cell_type": "code",
      "metadata": {
        "trusted": true,
        "id": "vZDR5jKwNmjs"
      },
      "source": [
        "#train.to_csv(f'../working/train_{int(fraction_users*100)}percent.csv')\n",
        "#val.to_csv(f'../working/val_{int(fraction_users*100)}percent.csv')"
      ],
      "execution_count": null,
      "outputs": []
    },
    {
      "cell_type": "markdown",
      "metadata": {
        "id": "1gLQ_AgsNmjs"
      },
      "source": [
        "\n",
        "thank you, tito, https://www.kaggle.com/its7171/cv-strategy for valuable insights"
      ]
    }
  ]
}