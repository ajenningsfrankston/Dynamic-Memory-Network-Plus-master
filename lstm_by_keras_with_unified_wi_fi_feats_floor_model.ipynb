{
  "nbformat": 4,
  "nbformat_minor": 0,
  "metadata": {
    "kernelspec": {
      "display_name": "Python 3",
      "language": "python",
      "name": "python3"
    },
    "language_info": {
      "codemirror_mode": {
        "name": "ipython",
        "version": 3
      },
      "file_extension": ".py",
      "mimetype": "text/x-python",
      "name": "python",
      "nbconvert_exporter": "python",
      "pygments_lexer": "ipython3",
      "version": "3.7.9"
    },
    "papermill": {
      "default_parameters": {},
      "duration": 3807.504194,
      "end_time": "2021-03-05T12:04:06.940880",
      "environment_variables": {},
      "exception": null,
      "input_path": "__notebook__.ipynb",
      "output_path": "__notebook__.ipynb",
      "parameters": {},
      "start_time": "2021-03-05T11:00:39.436686",
      "version": "2.2.2"
    },
    "colab": {
      "name": "lstm-by-keras-with-unified-wi-fi-feats-floor-model.ipynb",
      "provenance": [],
      "collapsed_sections": [],
      "include_colab_link": true
    }
  },
  "cells": [
    {
      "cell_type": "markdown",
      "metadata": {
        "id": "view-in-github",
        "colab_type": "text"
      },
      "source": [
        "<a href=\"https://colab.research.google.com/github/ajenningsfrankston/Dynamic-Memory-Network-Plus-master/blob/master/lstm_by_keras_with_unified_wi_fi_feats_floor_model.ipynb\" target=\"_parent\"><img src=\"https://colab.research.google.com/assets/colab-badge.svg\" alt=\"Open In Colab\"/></a>"
      ]
    },
    {
      "cell_type": "markdown",
      "metadata": {
        "id": "ol7WYJxpCeb-"
      },
      "source": [
        "Competition data is on my google drive. \n"
      ]
    },
    {
      "cell_type": "code",
      "metadata": {
        "colab": {
          "base_uri": "https://localhost:8080/"
        },
        "id": "-Nv4MYQCC4pe",
        "outputId": "089f948f-1f46-4d10-960f-7f919bf5aaf1"
      },
      "source": [
        "from google.colab import drive\n",
        "drive.mount('/content/gdrive')\n"
      ],
      "execution_count": null,
      "outputs": [
        {
          "output_type": "stream",
          "text": [
            "Mounted at /content/gdrive\n"
          ],
          "name": "stdout"
        }
      ]
    },
    {
      "cell_type": "markdown",
      "metadata": {
        "papermill": {
          "duration": 0.015257,
          "end_time": "2021-03-05T11:00:45.642040",
          "exception": false,
          "start_time": "2021-03-05T11:00:45.626783",
          "status": "completed"
        },
        "tags": [],
        "id": "OD14HLv9CMnm"
      },
      "source": [
        "## Overview\n",
        "\n",
        "This notebook derived \"from LSTM by Keras with Unified Wi-Fi Feats\" https://www.kaggle.com/kokitanisaka/lstm-by-keras-with-unified-wi-fi-feats\n",
        "\n",
        "Utilizes [the unified Wi-Fi dataset](https://www.kaggle.com/kokitanisaka/indoorunifiedwifids).<br>\n",
        " \n",
        "\n",
        "It uses these  excellent notebooks.\n",
        "\n",
        "* [wifi features with lightgbm/KFold](https://www.kaggle.com/hiro5299834/wifi-features-with-lightgbm-kfold) by [@hiro5299834](https://www.kaggle.com/hiro5299834/)<br>\n",
        "\n",
        "\n",
        "*   [99, 80% Floor accurate model BLSTM] https://www.kaggle.com/jwilliamhughdore/99-80-floor-accurate-model-blstm by [J.William Hugh Dore https://www.kaggle.com/jwilliamhughdore]\n",
        "\n",
        "\n",
        "\n",
        "\n"
      ]
    },
    {
      "cell_type": "markdown",
      "metadata": {
        "id": "orfEoHkDHs2f"
      },
      "source": [
        "### DevNotes\n",
        "\n",
        "Floor Model \n",
        "\n",
        "Is created by my kaggle kernel derived from 99.80% floor model\n"
      ]
    },
    {
      "cell_type": "code",
      "metadata": {
        "execution": {
          "iopub.execute_input": "2021-03-05T11:00:45.678765Z",
          "iopub.status.busy": "2021-03-05T11:00:45.678024Z",
          "iopub.status.idle": "2021-03-05T11:00:53.223193Z",
          "shell.execute_reply": "2021-03-05T11:00:53.224049Z"
        },
        "papermill": {
          "duration": 7.56848,
          "end_time": "2021-03-05T11:00:53.224420",
          "exception": false,
          "start_time": "2021-03-05T11:00:45.655940",
          "status": "completed"
        },
        "tags": [],
        "id": "0iTSbz5cCMnr",
        "colab": {
          "base_uri": "https://localhost:8080/"
        },
        "outputId": "e1765c0e-70d8-4eec-9018-5dc296738c5e"
      },
      "source": [
        "import numpy as np\n",
        "import pandas as pd\n",
        "import scipy.stats as stats\n",
        "from pathlib import Path\n",
        "import glob\n",
        "import pickle\n",
        "\n",
        "import random\n",
        "import os\n",
        "\n",
        "from sklearn.model_selection import StratifiedKFold\n",
        "from sklearn.preprocessing import StandardScaler, LabelEncoder\n",
        "\n",
        "import tensorflow as tf\n",
        "import tensorflow.keras.layers as L\n",
        "import tensorflow.keras.models as M\n",
        "import tensorflow.keras.backend as K\n",
        "\n",
        "!pip install tensorflow_addons\n",
        "\n",
        "from tensorflow_addons.layers import WeightNormalization\n",
        "from tensorflow.keras.callbacks import ReduceLROnPlateau, ModelCheckpoint, EarlyStopping"
      ],
      "execution_count": null,
      "outputs": [
        {
          "output_type": "stream",
          "text": [
            "Collecting tensorflow_addons\n",
            "\u001b[?25l  Downloading https://files.pythonhosted.org/packages/74/e3/56d2fe76f0bb7c88ed9b2a6a557e25e83e252aec08f13de34369cd850a0b/tensorflow_addons-0.12.1-cp37-cp37m-manylinux2010_x86_64.whl (703kB)\n",
            "\r\u001b[K     |▌                               | 10kB 14.1MB/s eta 0:00:01\r\u001b[K     |█                               | 20kB 11.9MB/s eta 0:00:01\r\u001b[K     |█▍                              | 30kB 7.7MB/s eta 0:00:01\r\u001b[K     |█▉                              | 40kB 7.6MB/s eta 0:00:01\r\u001b[K     |██▎                             | 51kB 8.4MB/s eta 0:00:01\r\u001b[K     |██▉                             | 61kB 9.2MB/s eta 0:00:01\r\u001b[K     |███▎                            | 71kB 8.5MB/s eta 0:00:01\r\u001b[K     |███▊                            | 81kB 8.8MB/s eta 0:00:01\r\u001b[K     |████▏                           | 92kB 8.5MB/s eta 0:00:01\r\u001b[K     |████▋                           | 102kB 7.5MB/s eta 0:00:01\r\u001b[K     |█████▏                          | 112kB 7.5MB/s eta 0:00:01\r\u001b[K     |█████▋                          | 122kB 7.5MB/s eta 0:00:01\r\u001b[K     |██████                          | 133kB 7.5MB/s eta 0:00:01\r\u001b[K     |██████▌                         | 143kB 7.5MB/s eta 0:00:01\r\u001b[K     |███████                         | 153kB 7.5MB/s eta 0:00:01\r\u001b[K     |███████▌                        | 163kB 7.5MB/s eta 0:00:01\r\u001b[K     |████████                        | 174kB 7.5MB/s eta 0:00:01\r\u001b[K     |████████▍                       | 184kB 7.5MB/s eta 0:00:01\r\u001b[K     |████████▉                       | 194kB 7.5MB/s eta 0:00:01\r\u001b[K     |█████████▎                      | 204kB 7.5MB/s eta 0:00:01\r\u001b[K     |█████████▉                      | 215kB 7.5MB/s eta 0:00:01\r\u001b[K     |██████████▎                     | 225kB 7.5MB/s eta 0:00:01\r\u001b[K     |██████████▊                     | 235kB 7.5MB/s eta 0:00:01\r\u001b[K     |███████████▏                    | 245kB 7.5MB/s eta 0:00:01\r\u001b[K     |███████████▋                    | 256kB 7.5MB/s eta 0:00:01\r\u001b[K     |████████████▏                   | 266kB 7.5MB/s eta 0:00:01\r\u001b[K     |████████████▋                   | 276kB 7.5MB/s eta 0:00:01\r\u001b[K     |█████████████                   | 286kB 7.5MB/s eta 0:00:01\r\u001b[K     |█████████████▌                  | 296kB 7.5MB/s eta 0:00:01\r\u001b[K     |██████████████                  | 307kB 7.5MB/s eta 0:00:01\r\u001b[K     |██████████████▍                 | 317kB 7.5MB/s eta 0:00:01\r\u001b[K     |███████████████                 | 327kB 7.5MB/s eta 0:00:01\r\u001b[K     |███████████████▍                | 337kB 7.5MB/s eta 0:00:01\r\u001b[K     |███████████████▉                | 348kB 7.5MB/s eta 0:00:01\r\u001b[K     |████████████████▎               | 358kB 7.5MB/s eta 0:00:01\r\u001b[K     |████████████████▊               | 368kB 7.5MB/s eta 0:00:01\r\u001b[K     |█████████████████▎              | 378kB 7.5MB/s eta 0:00:01\r\u001b[K     |█████████████████▊              | 389kB 7.5MB/s eta 0:00:01\r\u001b[K     |██████████████████▏             | 399kB 7.5MB/s eta 0:00:01\r\u001b[K     |██████████████████▋             | 409kB 7.5MB/s eta 0:00:01\r\u001b[K     |███████████████████             | 419kB 7.5MB/s eta 0:00:01\r\u001b[K     |███████████████████▋            | 430kB 7.5MB/s eta 0:00:01\r\u001b[K     |████████████████████            | 440kB 7.5MB/s eta 0:00:01\r\u001b[K     |████████████████████▌           | 450kB 7.5MB/s eta 0:00:01\r\u001b[K     |█████████████████████           | 460kB 7.5MB/s eta 0:00:01\r\u001b[K     |█████████████████████▍          | 471kB 7.5MB/s eta 0:00:01\r\u001b[K     |██████████████████████          | 481kB 7.5MB/s eta 0:00:01\r\u001b[K     |██████████████████████▍         | 491kB 7.5MB/s eta 0:00:01\r\u001b[K     |██████████████████████▉         | 501kB 7.5MB/s eta 0:00:01\r\u001b[K     |███████████████████████▎        | 512kB 7.5MB/s eta 0:00:01\r\u001b[K     |███████████████████████▊        | 522kB 7.5MB/s eta 0:00:01\r\u001b[K     |████████████████████████▎       | 532kB 7.5MB/s eta 0:00:01\r\u001b[K     |████████████████████████▊       | 542kB 7.5MB/s eta 0:00:01\r\u001b[K     |█████████████████████████▏      | 552kB 7.5MB/s eta 0:00:01\r\u001b[K     |█████████████████████████▋      | 563kB 7.5MB/s eta 0:00:01\r\u001b[K     |██████████████████████████      | 573kB 7.5MB/s eta 0:00:01\r\u001b[K     |██████████████████████████▋     | 583kB 7.5MB/s eta 0:00:01\r\u001b[K     |███████████████████████████     | 593kB 7.5MB/s eta 0:00:01\r\u001b[K     |███████████████████████████▌    | 604kB 7.5MB/s eta 0:00:01\r\u001b[K     |████████████████████████████    | 614kB 7.5MB/s eta 0:00:01\r\u001b[K     |████████████████████████████▍   | 624kB 7.5MB/s eta 0:00:01\r\u001b[K     |████████████████████████████▉   | 634kB 7.5MB/s eta 0:00:01\r\u001b[K     |█████████████████████████████▍  | 645kB 7.5MB/s eta 0:00:01\r\u001b[K     |█████████████████████████████▉  | 655kB 7.5MB/s eta 0:00:01\r\u001b[K     |██████████████████████████████▎ | 665kB 7.5MB/s eta 0:00:01\r\u001b[K     |██████████████████████████████▊ | 675kB 7.5MB/s eta 0:00:01\r\u001b[K     |███████████████████████████████▏| 686kB 7.5MB/s eta 0:00:01\r\u001b[K     |███████████████████████████████▊| 696kB 7.5MB/s eta 0:00:01\r\u001b[K     |████████████████████████████████| 706kB 7.5MB/s \n",
            "\u001b[?25hRequirement already satisfied: typeguard>=2.7 in /usr/local/lib/python3.7/dist-packages (from tensorflow_addons) (2.7.1)\n",
            "Installing collected packages: tensorflow-addons\n",
            "Successfully installed tensorflow-addons-0.12.1\n"
          ],
          "name": "stdout"
        }
      ]
    },
    {
      "cell_type": "markdown",
      "metadata": {
        "papermill": {
          "duration": 0.013025,
          "end_time": "2021-03-05T11:00:53.251239",
          "exception": false,
          "start_time": "2021-03-05T11:00:53.238214",
          "status": "completed"
        },
        "tags": [],
        "id": "NSJXxz4TCMnr"
      },
      "source": [
        "### options\n",
        "We can change the way it learns with these options. <br>\n",
        "Especialy **NUM_FEATS** is one of the most important options. <br>\n",
        "It determines how many features are used in the training. <br>\n",
        "We have 100 Wi-Fi features in the dataset, but 100th Wi-Fi signal sounds not important, right? <br>\n",
        "So we can use top Wi-Fi signals if we think we need to. "
      ]
    },
    {
      "cell_type": "code",
      "metadata": {
        "execution": {
          "iopub.execute_input": "2021-03-05T11:00:53.281242Z",
          "iopub.status.busy": "2021-03-05T11:00:53.280559Z",
          "iopub.status.idle": "2021-03-05T11:00:53.285759Z",
          "shell.execute_reply": "2021-03-05T11:00:53.286343Z"
        },
        "papermill": {
          "duration": 0.022119,
          "end_time": "2021-03-05T11:00:53.286554",
          "exception": false,
          "start_time": "2021-03-05T11:00:53.264435",
          "status": "completed"
        },
        "tags": [],
        "id": "QNJON8_8CMns"
      },
      "source": [
        "# options\n",
        "\n",
        "N_SPLITS = 3\n",
        "\n",
        "SEED = 2021\n",
        "\n",
        "NUM_FEATS = 40 # number of features that we use. there are 100 feats but we don't need to use all of them\n",
        "\n",
        "base_path = '/content/gdrive/MyDrive/wifi_localisation'"
      ],
      "execution_count": null,
      "outputs": []
    },
    {
      "cell_type": "code",
      "metadata": {
        "id": "6u4iCbKzxApF"
      },
      "source": [
        "#floor prediction model (complete)\n",
        "\n",
        "floor_model = M.load_model(f'{base_path}/floor_predict.h5')\n",
        "\n",
        "#floor_model.summary()"
      ],
      "execution_count": null,
      "outputs": []
    },
    {
      "cell_type": "code",
      "metadata": {
        "_cell_guid": "b1076dfc-b9ad-4769-8c92-a6c4dae69d19",
        "_uuid": "8f2839f25d086af736a60e9eeb907d3b93b6e0e5",
        "execution": {
          "iopub.execute_input": "2021-03-05T11:00:53.317471Z",
          "iopub.status.busy": "2021-03-05T11:00:53.316843Z",
          "iopub.status.idle": "2021-03-05T11:00:53.324858Z",
          "shell.execute_reply": "2021-03-05T11:00:53.325417Z"
        },
        "papermill": {
          "duration": 0.024731,
          "end_time": "2021-03-05T11:00:53.325619",
          "exception": false,
          "start_time": "2021-03-05T11:00:53.300888",
          "status": "completed"
        },
        "tags": [],
        "id": "XkegtKCSCMns"
      },
      "source": [
        "def set_seed(seed=42):\n",
        "    random.seed(seed)\n",
        "    os.environ['PYTHONHASHSEED'] = str(seed)\n",
        "    np.random.seed(seed)\n",
        "    tf.random.set_seed(seed)\n",
        "    session_conf = tf.compat.v1.ConfigProto(\n",
        "        intra_op_parallelism_threads=1,\n",
        "        inter_op_parallelism_threads=1\n",
        "    )\n",
        "    sess = tf.compat.v1.Session(graph=tf.compat.v1.get_default_graph(), config=session_conf)\n",
        "    tf.compat.v1.keras.backend.set_session(sess)\n",
        "    \n",
        "def comp_metric(xhat, yhat, fhat, x, y, f):\n",
        "    intermediate = np.sqrt(np.power(xhat-x, 2) + np.power(yhat-y, 2)) + 15 * np.abs(fhat-f)\n",
        "    return intermediate.sum()/xhat.shape[0]"
      ],
      "execution_count": null,
      "outputs": []
    },
    {
      "cell_type": "code",
      "metadata": {
        "execution": {
          "iopub.execute_input": "2021-03-05T11:00:53.357053Z",
          "iopub.status.busy": "2021-03-05T11:00:53.356315Z",
          "iopub.status.idle": "2021-03-05T11:00:53.446993Z",
          "shell.execute_reply": "2021-03-05T11:00:53.447592Z"
        },
        "papermill": {
          "duration": 0.108223,
          "end_time": "2021-03-05T11:00:53.447786",
          "exception": false,
          "start_time": "2021-03-05T11:00:53.339563",
          "status": "completed"
        },
        "tags": [],
        "id": "CZjoT1YaCMns"
      },
      "source": [
        "feature_dir = f\"{base_path}/input/indoorunifiedwifids\"\n",
        "train_files = sorted(glob.glob(os.path.join(feature_dir, '*_train.csv')))\n",
        "test_files = sorted(glob.glob(os.path.join(feature_dir, '*_test.csv')))\n",
        "subm = pd.read_csv(f'{base_path}/input/indoor-location-navigation/sample_submission.csv', index_col=0)"
      ],
      "execution_count": null,
      "outputs": []
    },
    {
      "cell_type": "code",
      "metadata": {
        "execution": {
          "iopub.execute_input": "2021-03-05T11:00:53.480987Z",
          "iopub.status.busy": "2021-03-05T11:00:53.480279Z",
          "iopub.status.idle": "2021-03-05T11:01:16.265565Z",
          "shell.execute_reply": "2021-03-05T11:01:16.264957Z"
        },
        "papermill": {
          "duration": 22.804009,
          "end_time": "2021-03-05T11:01:16.265721",
          "exception": false,
          "start_time": "2021-03-05T11:00:53.461712",
          "status": "completed"
        },
        "tags": [],
        "id": "AiMglA0DCMns"
      },
      "source": [
        "with open(f'{feature_dir}/train_all.pkl', 'rb') as f:\n",
        "  data = pickle.load( f)\n",
        "\n",
        "with open(f'{feature_dir}/test_all.pkl', 'rb') as f:\n",
        "  test_data = pickle.load(f)"
      ],
      "execution_count": null,
      "outputs": []
    },
    {
      "cell_type": "code",
      "metadata": {
        "execution": {
          "iopub.execute_input": "2021-03-05T11:01:16.299075Z",
          "iopub.status.busy": "2021-03-05T11:01:16.298379Z",
          "iopub.status.idle": "2021-03-05T11:01:16.302350Z",
          "shell.execute_reply": "2021-03-05T11:01:16.301741Z"
        },
        "papermill": {
          "duration": 0.022724,
          "end_time": "2021-03-05T11:01:16.302519",
          "exception": false,
          "start_time": "2021-03-05T11:01:16.279795",
          "status": "completed"
        },
        "tags": [],
        "id": "NryGhHulCMnt"
      },
      "source": [
        "# training target features\n",
        "\n",
        "BSSID_FEATS = [f'bssid_{i}' for i in range(NUM_FEATS)]\n",
        "RSSI_FEATS  = [f'rssi_{i}' for i in range(NUM_FEATS)]\n"
      ],
      "execution_count": null,
      "outputs": []
    },
    {
      "cell_type": "code",
      "metadata": {
        "execution": {
          "iopub.execute_input": "2021-03-05T11:01:16.385826Z",
          "iopub.status.busy": "2021-03-05T11:01:16.356245Z",
          "iopub.status.idle": "2021-03-05T11:01:20.548253Z",
          "shell.execute_reply": "2021-03-05T11:01:20.548779Z"
        },
        "papermill": {
          "duration": 4.232407,
          "end_time": "2021-03-05T11:01:20.548994",
          "exception": false,
          "start_time": "2021-03-05T11:01:16.316587",
          "status": "completed"
        },
        "tags": [],
        "id": "WgDsDdquCMnt",
        "colab": {
          "base_uri": "https://localhost:8080/"
        },
        "outputId": "f45bc0a5-d1d1-4ea7-bc07-59528bc7645f"
      },
      "source": [
        "# get numbers of bssids to embed them in a layer\n",
        "\n",
        "wifi_bssids = []\n",
        "for i in range(100):\n",
        "    wifi_bssids.extend(data.iloc[:,i].values.tolist())\n",
        "wifi_bssids = list(set(wifi_bssids))\n",
        "\n",
        "wifi_bssids_size = len(wifi_bssids)\n",
        "print(f'BSSID TYPES: {wifi_bssids_size}')\n",
        "\n",
        "wifi_bssids_test = []\n",
        "for i in range(100):\n",
        "    wifi_bssids_test.extend(test_data.iloc[:,i].values.tolist())\n",
        "wifi_bssids_test = list(set(wifi_bssids_test))\n",
        "\n",
        "wifi_bssids_size = len(wifi_bssids_test)\n",
        "print(f'BSSID TYPES: {wifi_bssids_size}')\n",
        "\n",
        "wifi_bssids.extend(wifi_bssids_test)\n",
        "wifi_bssids_size = len(wifi_bssids)"
      ],
      "execution_count": null,
      "outputs": [
        {
          "output_type": "stream",
          "text": [
            "BSSID TYPES: 61206\n",
            "BSSID TYPES: 33042\n"
          ],
          "name": "stdout"
        }
      ]
    },
    {
      "cell_type": "code",
      "metadata": {
        "execution": {
          "iopub.execute_input": "2021-03-05T11:01:20.615374Z",
          "iopub.status.busy": "2021-03-05T11:01:20.614531Z",
          "iopub.status.idle": "2021-03-05T11:01:23.377862Z",
          "shell.execute_reply": "2021-03-05T11:01:23.377306Z"
        },
        "papermill": {
          "duration": 2.814103,
          "end_time": "2021-03-05T11:01:23.378020",
          "exception": false,
          "start_time": "2021-03-05T11:01:20.563917",
          "status": "completed"
        },
        "tags": [],
        "id": "18nsWLuYCMnu",
        "colab": {
          "base_uri": "https://localhost:8080/"
        },
        "outputId": "e3e52f50-a165-424b-ed95-2c3f1b86f223"
      },
      "source": [
        "# preprocess\n",
        "\n",
        "le = LabelEncoder()\n",
        "le.fit(wifi_bssids)\n",
        "le_site = LabelEncoder()\n",
        "le_site.fit(data['site_id'])\n",
        "\n",
        "ss = StandardScaler()\n",
        "ss.fit(data.loc[:,RSSI_FEATS])"
      ],
      "execution_count": null,
      "outputs": [
        {
          "output_type": "execute_result",
          "data": {
            "text/plain": [
              "StandardScaler(copy=True, with_mean=True, with_std=True)"
            ]
          },
          "metadata": {
            "tags": []
          },
          "execution_count": 10
        }
      ]
    },
    {
      "cell_type": "code",
      "metadata": {
        "execution": {
          "iopub.execute_input": "2021-03-05T11:01:23.433338Z",
          "iopub.status.busy": "2021-03-05T11:01:23.432628Z",
          "iopub.status.idle": "2021-03-05T11:01:55.635672Z",
          "shell.execute_reply": "2021-03-05T11:01:55.635067Z"
        },
        "papermill": {
          "duration": 32.242398,
          "end_time": "2021-03-05T11:01:55.635854",
          "exception": false,
          "start_time": "2021-03-05T11:01:23.393456",
          "status": "completed"
        },
        "tags": [],
        "id": "GGoYj2GXCMnu"
      },
      "source": [
        "data.loc[:,RSSI_FEATS] = ss.transform(data.loc[:,RSSI_FEATS])\n",
        "for i in BSSID_FEATS:\n",
        "    data.loc[:,i] = le.transform(data.loc[:,i])\n",
        "    data.loc[:,i] = data.loc[:,i] + 1\n",
        "    \n",
        "data.loc[:, 'site_id'] = le_site.transform(data.loc[:, 'site_id'])\n",
        "\n",
        "data.loc[:,RSSI_FEATS] = ss.transform(data.loc[:,RSSI_FEATS])"
      ],
      "execution_count": null,
      "outputs": []
    },
    {
      "cell_type": "code",
      "metadata": {
        "execution": {
          "iopub.execute_input": "2021-03-05T11:01:55.675466Z",
          "iopub.status.busy": "2021-03-05T11:01:55.674190Z",
          "iopub.status.idle": "2021-03-05T11:01:58.697308Z",
          "shell.execute_reply": "2021-03-05T11:01:58.697853Z"
        },
        "papermill": {
          "duration": 3.046874,
          "end_time": "2021-03-05T11:01:58.698036",
          "exception": false,
          "start_time": "2021-03-05T11:01:55.651162",
          "status": "completed"
        },
        "tags": [],
        "id": "l88wT8UsCMnv"
      },
      "source": [
        "test_data.loc[:,RSSI_FEATS] = ss.transform(test_data.loc[:,RSSI_FEATS])\n",
        "for i in BSSID_FEATS:\n",
        "    test_data.loc[:,i] = le.transform(test_data.loc[:,i])\n",
        "    test_data.loc[:,i] = test_data.loc[:,i] + 1\n",
        "    \n",
        "test_data.loc[:, 'site_id'] = le_site.transform(test_data.loc[:, 'site_id'])\n",
        "\n",
        "test_data.loc[:,RSSI_FEATS] = ss.transform(test_data.loc[:,RSSI_FEATS])"
      ],
      "execution_count": null,
      "outputs": []
    },
    {
      "cell_type": "code",
      "metadata": {
        "execution": {
          "iopub.execute_input": "2021-03-05T11:01:58.731427Z",
          "iopub.status.busy": "2021-03-05T11:01:58.730682Z",
          "iopub.status.idle": "2021-03-05T11:01:58.741100Z",
          "shell.execute_reply": "2021-03-05T11:01:58.740529Z"
        },
        "papermill": {
          "duration": 0.028142,
          "end_time": "2021-03-05T11:01:58.741272",
          "exception": false,
          "start_time": "2021-03-05T11:01:58.713130",
          "status": "completed"
        },
        "tags": [],
        "id": "K_P5XArTCMnv"
      },
      "source": [
        "site_count = len(data['site_id'].unique())\n",
        "data.reset_index(drop=True, inplace=True)"
      ],
      "execution_count": null,
      "outputs": []
    },
    {
      "cell_type": "code",
      "metadata": {
        "execution": {
          "iopub.execute_input": "2021-03-05T11:01:58.777373Z",
          "iopub.status.busy": "2021-03-05T11:01:58.776743Z",
          "iopub.status.idle": "2021-03-05T11:01:58.798624Z",
          "shell.execute_reply": "2021-03-05T11:01:58.798067Z"
        },
        "papermill": {
          "duration": 0.04201,
          "end_time": "2021-03-05T11:01:58.798775",
          "exception": false,
          "start_time": "2021-03-05T11:01:58.756765",
          "status": "completed"
        },
        "tags": [],
        "id": "WwPP3CWeCMnv"
      },
      "source": [
        "set_seed(SEED)"
      ],
      "execution_count": null,
      "outputs": []
    },
    {
      "cell_type": "markdown",
      "metadata": {
        "papermill": {
          "duration": 0.015023,
          "end_time": "2021-03-05T11:01:58.829586",
          "exception": false,
          "start_time": "2021-03-05T11:01:58.814563",
          "status": "completed"
        },
        "tags": [],
        "id": "sqVH_D8pCMnv"
      },
      "source": [
        "## The model\n"
      ]
    },
    {
      "cell_type": "code",
      "metadata": {
        "execution": {
          "iopub.execute_input": "2021-03-05T11:01:58.863192Z",
          "iopub.status.busy": "2021-03-05T11:01:58.862594Z",
          "iopub.status.idle": "2021-03-05T11:01:58.874830Z",
          "shell.execute_reply": "2021-03-05T11:01:58.875380Z"
        },
        "papermill": {
          "duration": 0.030789,
          "end_time": "2021-03-05T11:01:58.875583",
          "exception": false,
          "start_time": "2021-03-05T11:01:58.844794",
          "status": "completed"
        },
        "tags": [],
        "id": "tJeiy546CMnv"
      },
      "source": [
        "def create_model(input_data):\n",
        "\n",
        "    # bssid feats\n",
        "    input_dim = input_data[0].shape[1]\n",
        "\n",
        "    input_embd_layer = L.Input(shape=(input_dim,))\n",
        "    x1 = L.Embedding(wifi_bssids_size, 64)(input_embd_layer)\n",
        "    x1 = L.Flatten()(x1)\n",
        "\n",
        "    # rssi feats\n",
        "    input_dim = input_data[1].shape[1]\n",
        "\n",
        "    input_layer = L.Input(input_dim, )\n",
        "    x2 = L.BatchNormalization()(input_layer)\n",
        "    x2 = L.Dense(NUM_FEATS * 64, activation='relu')(x2)\n",
        "\n",
        "    # site\n",
        "    input_site_layer = L.Input(shape=(1,))\n",
        "    x3 = L.Embedding(site_count, 2)(input_site_layer)\n",
        "    x3 = L.Flatten()(x3)\n",
        "\n",
        "\n",
        "    # main stream\n",
        "    x = L.Concatenate(axis=1)([x1, x3, x2])\n",
        "\n",
        "    x = L.BatchNormalization()(x)\n",
        "    x = L.Dropout(0.3)(x)\n",
        "    x = L.Dense(256, activation='relu')(x)\n",
        "\n",
        "    x = L.Reshape((1, -1))(x)\n",
        "    x = L.BatchNormalization()(x)\n",
        "    x = L.LSTM(128, dropout=0.3, recurrent_dropout=0.3, return_sequences=True, activation='relu')(x)\n",
        "    x = L.LSTM(16, dropout=0.1, return_sequences=False, activation='relu')(x)\n",
        "\n",
        "    \n",
        "    output_layer_1 = L.Dense(2, name='xy')(x)\n",
        "\n",
        "    model = M.Model([input_embd_layer, input_layer, input_site_layer], \n",
        "                    [output_layer_1])\n",
        "\n",
        "    model.compile(optimizer=tf.optimizers.Adam(lr=0.001),\n",
        "                  loss='mse', metrics=['mse'])\n",
        "\n",
        "    return model"
      ],
      "execution_count": null,
      "outputs": []
    },
    {
      "cell_type": "code",
      "metadata": {
        "execution": {
          "iopub.execute_input": "2021-03-05T11:01:58.910478Z",
          "iopub.status.busy": "2021-03-05T11:01:58.909790Z",
          "iopub.status.idle": "2021-03-05T12:01:16.469937Z",
          "shell.execute_reply": "2021-03-05T12:01:16.333142Z"
        },
        "papermill": {
          "duration": 3557.578715,
          "end_time": "2021-03-05T12:01:16.470117",
          "exception": false,
          "start_time": "2021-03-05T11:01:58.891402",
          "status": "completed"
        },
        "tags": [],
        "id": "cPGttZHuCMnw",
        "colab": {
          "base_uri": "https://localhost:8080/",
          "height": 385
        },
        "outputId": "22fb7748-d145-456a-b7a3-a5a416b74383"
      },
      "source": [
        "score_df = pd.DataFrame()\n",
        "\n",
        "oof = list()\n",
        "predictions = list()\n",
        "\n",
        "\n",
        "oof_x, oof_y, oof_f = np.zeros(data.shape[0]), np.zeros(data.shape[0]), np.zeros(data.shape[0])\n",
        "preds_x, preds_y = 0, 0\n",
        "preds_f_arr = np.zeros((test_data.shape[0], N_SPLITS))\n",
        "\n",
        "\n",
        "for fold, (trn_idx, val_idx) in enumerate(StratifiedKFold(n_splits=N_SPLITS, shuffle=True, random_state=SEED).split(data.loc[:, 'path'], data.loc[:, 'path'])):\n",
        "    X_train = data.loc[trn_idx, BSSID_FEATS + RSSI_FEATS + ['site_id']]\n",
        "    y_trainx = data.loc[trn_idx, 'x']\n",
        "    y_trainy = data.loc[trn_idx, 'y']\n",
        "\n",
        "    y_train = [y_trainx,y_trainy]\n",
        "\n",
        "    X_valid = data.loc[val_idx, BSSID_FEATS + RSSI_FEATS + ['site_id']]\n",
        "    y_validx = data.loc[val_idx, 'x']\n",
        "    y_validy = data.loc[val_idx, 'y']\n",
        "\n",
        "    floor_valid = data.loc[val_idx, 'floor']\n",
        "    y_valid = [y_validx,y_validy]\n",
        "\n",
        "    model = create_model([X_train.loc[:,BSSID_FEATS], X_train.loc[:,RSSI_FEATS], X_train.loc[:,'site_id']])\n",
        "    model.fit([X_train.loc[:,BSSID_FEATS], X_train.loc[:,RSSI_FEATS], X_train.loc[:,'site_id']], y_train, \n",
        "                validation_data=([X_valid.loc[:,BSSID_FEATS], X_valid.loc[:,RSSI_FEATS], X_valid.loc[:,'site_id']], y_valid), \n",
        "                batch_size=128, epochs=3,\n",
        "                callbacks=[\n",
        "                ReduceLROnPlateau(monitor='val_loss', factor=0.1, patience=3, verbose=1, min_delta=1e-4, mode='min')\n",
        "                , ModelCheckpoint(f'{base_path}/RNN_{SEED}_{fold}.hdf5', monitor='val_loss', verbose=0, save_best_only=True, save_weights_only=True, mode='min')\n",
        "                , EarlyStopping(monitor='val_loss', min_delta=1e-4, patience=5, mode='min', baseline=None, restore_best_weights=True)\n",
        "            ])\n",
        "\n",
        "    model.load_weights(f'{base_path}/RNN_{SEED}_{fold}.hdf5')\n",
        "    val_pred = model.predict([X_valid.loc[:,BSSID_FEATS], X_valid.loc[:,RSSI_FEATS], X_valid.loc[:,'site_id']])\n",
        "\n",
        "    floor_scores = floor_model.predict([X_valid.loc[:,BSSID_FEATS], X_valid.loc[:,RSSI_FEATS], X_valid.loc[:,'site_id']])\n",
        "    floor_pred = np.argmax(floor_scores, axis=1)\n",
        "\n",
        "    oof_x[val_idx] = val_pred[:,0]\n",
        "    oof_y[val_idx] = val_pred[:,1]\n",
        "    oof_f[val_idx] = floor_pred\n",
        "\n",
        "    score = comp_metric(oof_x[val_idx], oof_y[val_idx], oof_f[val_idx],\n",
        "                        y_validx.to_numpy(), y_validy.to_numpy(), floor_valid.to_numpy())\n",
        "    \n",
        "    print(f\"fold {fold}: mean position error {score}\")\n",
        "    \n",
        "\n",
        "    pred = model.predict([test_data.loc[:,BSSID_FEATS], test_data.loc[:,RSSI_FEATS], test_data.loc[:,'site_id']]) # test_data.iloc[:, :-1])\n",
        "    floor_scores = floor_model.predict([test_valid.loc[:,BSSID_FEATS], test_valid.loc[:,RSSI_FEATS], test_valid.loc[:,'site_id']])\n",
        "    floor_pred = np.argmax(floor_scores, axis=1)\n",
        "\n",
        "    preds_x += pred [:,0]\n",
        "    preds_y += pred [:,1]\n",
        "    preds_f_arr[:, fold] = floor_pred.astype(int)\n",
        "\n",
        "\n",
        "preds_x /= (fold + 1)\n",
        "preds_y /= (fold + 1)\n",
        "    \n",
        "print(\"*+\"*40)\n",
        "# as it breaks in the middle of cross-validation, the score is not accurate at all.\n",
        "score = comp_metric(oof_x, oof_y, oof_f, data.iloc[:, -5].to_numpy(), data.iloc[:, -4].to_numpy(), data.iloc[:, -3].to_numpy())\n",
        "oof.append(score)\n",
        "print(f\"mean position error {score}\")\n",
        "print(\"*+\"*40)\n",
        "\n",
        "\n",
        "preds_f_mode = stats.mode(preds_f_arr, axis=1)\n",
        "preds_f = preds_f_mode[0].astype(int).reshape(-1)\n",
        "test_preds = pd.DataFrame(np.stack((preds_f, preds_x, preds_y))).T\n",
        "test_preds.columns = subm.columns\n",
        "test_preds.index = test_data[\"site_path_timestamp\"]\n",
        "test_preds[\"floor\"] = test_preds[\"floor\"].astype(int)\n",
        "predictions.append(test_preds)"
      ],
      "execution_count": null,
      "outputs": [
        {
          "output_type": "stream",
          "text": [
            "/usr/local/lib/python3.7/dist-packages/sklearn/model_selection/_split.py:667: UserWarning: The least populated class in y has only 1 members, which is less than n_splits=3.\n",
            "  % (min_groups, self.n_splits)), UserWarning)\n"
          ],
          "name": "stderr"
        },
        {
          "output_type": "stream",
          "text": [
            "Epoch 1/3\n",
            "1345/1345 [==============================] - 179s 130ms/step - loss: 3451.6954 - mse: 3451.6954 - val_loss: 99.1604 - val_mse: 99.1604\n",
            "Epoch 2/3\n",
            "1345/1345 [==============================] - 175s 130ms/step - loss: 223.2161 - mse: 223.2161 - val_loss: 90.9631 - val_mse: 90.9631\n",
            "Epoch 3/3\n",
            "1345/1345 [==============================] - 176s 131ms/step - loss: 184.2428 - mse: 184.2428 - val_loss: 58.1404 - val_mse: 58.1404\n",
            "fold 0: mean position error 98.2142224290846\n"
          ],
          "name": "stdout"
        },
        {
          "output_type": "error",
          "ename": "ValueError",
          "evalue": "ignored",
          "traceback": [
            "\u001b[0;31m---------------------------------------------------------------------------\u001b[0m",
            "\u001b[0;31mValueError\u001b[0m                                Traceback (most recent call last)",
            "\u001b[0;32m<ipython-input-17-a1fc913c8ffc>\u001b[0m in \u001b[0;36m<module>\u001b[0;34m()\u001b[0m\n\u001b[1;32m     53\u001b[0m     \u001b[0mpreds_x\u001b[0m \u001b[0;34m+=\u001b[0m \u001b[0mpred\u001b[0m \u001b[0;34m[\u001b[0m\u001b[0;34m:\u001b[0m\u001b[0;34m,\u001b[0m\u001b[0;36m0\u001b[0m\u001b[0;34m]\u001b[0m\u001b[0;34m\u001b[0m\u001b[0;34m\u001b[0m\u001b[0m\n\u001b[1;32m     54\u001b[0m     \u001b[0mpreds_y\u001b[0m \u001b[0;34m+=\u001b[0m \u001b[0mpred\u001b[0m \u001b[0;34m[\u001b[0m\u001b[0;34m:\u001b[0m\u001b[0;34m,\u001b[0m\u001b[0;36m1\u001b[0m\u001b[0;34m]\u001b[0m\u001b[0;34m\u001b[0m\u001b[0;34m\u001b[0m\u001b[0m\n\u001b[0;32m---> 55\u001b[0;31m     \u001b[0mpreds_f_arr\u001b[0m\u001b[0;34m[\u001b[0m\u001b[0;34m:\u001b[0m\u001b[0;34m,\u001b[0m \u001b[0mfold\u001b[0m\u001b[0;34m]\u001b[0m \u001b[0;34m=\u001b[0m \u001b[0mfloor_pred\u001b[0m\u001b[0;34m.\u001b[0m\u001b[0mastype\u001b[0m\u001b[0;34m(\u001b[0m\u001b[0mint\u001b[0m\u001b[0;34m)\u001b[0m\u001b[0;34m\u001b[0m\u001b[0;34m\u001b[0m\u001b[0m\n\u001b[0m\u001b[1;32m     56\u001b[0m \u001b[0;34m\u001b[0m\u001b[0m\n\u001b[1;32m     57\u001b[0m \u001b[0;34m\u001b[0m\u001b[0m\n",
            "\u001b[0;31mValueError\u001b[0m: could not broadcast input array from shape (86042) into shape (10133)"
          ]
        }
      ]
    },
    {
      "cell_type": "code",
      "metadata": {
        "execution": {
          "iopub.execute_input": "2021-03-05T12:01:46.892296Z",
          "iopub.status.busy": "2021-03-05T12:01:46.891293Z",
          "iopub.status.idle": "2021-03-05T12:01:46.895141Z",
          "shell.execute_reply": "2021-03-05T12:01:46.894530Z"
        },
        "papermill": {
          "duration": 15.23028,
          "end_time": "2021-03-05T12:01:46.895283",
          "exception": false,
          "start_time": "2021-03-05T12:01:31.665003",
          "status": "completed"
        },
        "tags": [],
        "id": "exNtCtZXCMnx"
      },
      "source": [
        "all_preds = pd.concat(predictions)\n",
        "all_preds = all_preds.reindex(subm.index)"
      ],
      "execution_count": null,
      "outputs": []
    },
    {
      "cell_type": "markdown",
      "metadata": {
        "papermill": {
          "duration": 15.319126,
          "end_time": "2021-03-05T12:02:17.223894",
          "exception": false,
          "start_time": "2021-03-05T12:02:01.904768",
          "status": "completed"
        },
        "tags": [],
        "id": "v3gPzh7pCMnx"
      },
      "source": [
        "## Fix the floor prediction\n",
        "So far, it is not successfully make the \"floor\" prediction part with this dataset. <br>\n",
        "To make it right, we can incorporate [@nigelhenry](https://www.kaggle.com/nigelhenry/)'s [excellent work](https://www.kaggle.com/nigelhenry/simple-99-accurate-floor-model). <br>"
      ]
    },
    {
      "cell_type": "code",
      "metadata": {
        "execution": {
          "iopub.execute_input": "2021-03-05T12:02:47.612691Z",
          "iopub.status.busy": "2021-03-05T12:02:47.612031Z",
          "iopub.status.idle": "2021-03-05T12:02:47.662670Z",
          "shell.execute_reply": "2021-03-05T12:02:47.662079Z"
        },
        "papermill": {
          "duration": 15.268768,
          "end_time": "2021-03-05T12:02:47.662842",
          "exception": false,
          "start_time": "2021-03-05T12:02:32.394074",
          "status": "completed"
        },
        "tags": [],
        "id": "yW_A0fwDCMny"
      },
      "source": [
        "simple_accurate_99 = pd.read_csv(f'{base_path}/input/simple-99-accurate-floor-model/floor.csv')\n",
        "\n",
        "all_preds['floor'] = simple_accurate_99['floor'].values"
      ],
      "execution_count": null,
      "outputs": []
    },
    {
      "cell_type": "code",
      "metadata": {
        "execution": {
          "iopub.execute_input": "2021-03-05T12:03:17.803729Z",
          "iopub.status.busy": "2021-03-05T12:03:17.803066Z",
          "iopub.status.idle": "2021-03-05T12:03:17.886442Z",
          "shell.execute_reply": "2021-03-05T12:03:17.885697Z"
        },
        "papermill": {
          "duration": 15.239501,
          "end_time": "2021-03-05T12:03:17.886632",
          "exception": false,
          "start_time": "2021-03-05T12:03:02.647131",
          "status": "completed"
        },
        "tags": [],
        "id": "pEXaRIdnCMny"
      },
      "source": [
        "\n",
        "all_preds.to_csv(f'{base_path}/submission.csv')"
      ],
      "execution_count": null,
      "outputs": []
    },
    {
      "cell_type": "markdown",
      "metadata": {
        "papermill": {
          "duration": 15.069713,
          "end_time": "2021-03-05T12:03:48.049165",
          "exception": false,
          "start_time": "2021-03-05T12:03:32.979452",
          "status": "completed"
        },
        "tags": [],
        "id": "5CK64Q4jCMny"
      },
      "source": [
        "That's it. \n",
        "\n",
        "Thank you for reading all of it.\n",
        "\n",
        "I hope it helps!\n",
        "\n",
        "Please make comments if you found something to point out, insights or suggestions. "
      ]
    }
  ]
}