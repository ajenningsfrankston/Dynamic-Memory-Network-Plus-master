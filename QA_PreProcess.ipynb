{
 "cells": [
  {
   "cell_type": "code",
   "execution_count": 21,
   "metadata": {
    "pycharm": {
     "is_executing": false
    }
   },
   "outputs": [
    {
     "name": "stdout",
     "text": [
      "Loaded!\n"
     ],
     "output_type": "stream"
    }
   ],
   "source": [
    "import numpy as np\n",
    "\n",
    "\n",
    "\n",
    "\n",
    "filename = 'glove.6B.100d.txt'\n",
    "\n",
    "def loadEmbeddings(filename):\n",
    "    vocab = []\n",
    "    embd = []\n",
    "    file = open(filename,'r')\n",
    "    for line in file.readlines():\n",
    "        row = line.strip().split(' ')\n",
    "        vocab.append(row[0])\n",
    "        embd.append(row[1:])\n",
    "    print('Loaded!')\n",
    "    file.close()\n",
    "    return vocab,embd\n",
    "vocab,embd = loadEmbeddings(filename)\n",
    "\n",
    "\n",
    "word_vec_dim = len(embd[0])\n",
    "\n",
    "vocab.append('<UNK>')\n",
    "embd.append(np.asarray(embd[vocab.index('unk')],np.float32)+0.01)\n",
    "\n",
    "vocab.append('<EOS>')\n",
    "embd.append(np.asarray(embd[vocab.index('eos')],np.float32)+0.01)\n",
    "\n",
    "vocab.append('<PAD>')\n",
    "embd.append(np.zeros((word_vec_dim),np.float32))\n",
    "\n",
    "embedding = np.asarray(embd)\n",
    "embedding = embedding.astype(np.float32)\n",
    "\n"
   ]
  },
  {
   "cell_type": "code",
   "execution_count": 22,
   "metadata": {
    "pycharm": {
     "is_executing": false
    }
   },
   "outputs": [
    {
     "name": "stdout",
     "text": [
      "TOP TEN MOST SIMILAR WORDS TO 'frog':\n",
      "\n",
      "1. frog\n",
      "2. toad\n",
      "3. snake\n",
      "4. ape\n",
      "5. monkey\n",
      "6. frogs\n",
      "7. litoria\n",
      "8. spider\n",
      "9. hypsiboas\n",
      "10. squirrel\n"
     ],
     "output_type": "stream"
    }
   ],
   "source": [
    "def word2vec(word):  # converts a given word into its vector representation\n",
    "    if word in vocab:\n",
    "        return embedding[vocab.index(word)]\n",
    "    else:\n",
    "        return embedding[vocab.index('<UNK>')]\n",
    "\n",
    "def most_similar_eucli(x):\n",
    "    xminusy = np.subtract(embedding,x)\n",
    "    sq_xminusy = np.square(xminusy)\n",
    "    sum_sq_xminusy = np.sum(sq_xminusy,1)\n",
    "    eucli_dists = np.sqrt(sum_sq_xminusy)\n",
    "    return np.argsort(eucli_dists)\n",
    "\n",
    "word = 'frog'\n",
    "\n",
    "most_similars = most_similar_eucli(word2vec(word))\n",
    "\n",
    "print(\"TOP TEN MOST SIMILAR WORDS TO '\"+str(word)+\"':\\n\")\n",
    "for i in range(0,10):\n",
    "    print(str(i+1)+\". \"+str(vocab[most_similars[i]]))\n",
    "\n",
    "def vec2word(vec):   # converts a given vector representation into the represented word \n",
    "    most_similars = most_similar_eucli(np.asarray(vec,np.float32))\n",
    "    return vocab[most_similars[0]]"
   ]
  },
  {
   "cell_type": "code",
   "execution_count": 23,
   "metadata": {
    "pycharm": {
     "is_executing": false
    }
   },
   "outputs": [],
   "source": [
    "import string\n",
    "# Data related to basic induction training and testing from QA bAbi tasks dataset will be used.\n",
    "# (https://research.fb.com/downloads/babi/)\n",
    "\n",
    "filename = 'qa16_basic-induction_train.txt' \n",
    "\n",
    "fact_story = [] \n",
    "question = []   \n",
    "answer = []   \n",
    "\n",
    "    \n",
    "max_fact_len = 0\n",
    "max_question_len = 0\n",
    "\n",
    "\n",
    "def extract_info(filename,max_fact_len,max_question_len):  \n",
    "        \n",
    "    fact_story = [] \n",
    "    fact_stories = []\n",
    "    questions = []\n",
    "    answers = []\n",
    "\n",
    "    file = open(filename,'r')\n",
    "    for line in file.readlines(): \n",
    "        \n",
    "        flag_end_story = 0 \n",
    "        line = line.lower() \n",
    "        if '?' in line:\n",
    "            #q for question, a for answer.\n",
    "            flag_end_story=1\n",
    "            qa = line.strip().split('\\t')\n",
    "            q = qa[0]\n",
    "            a = qa[1]\n",
    "            punct_to_null = str.maketrans('','',string.punctuation)\n",
    "            q = q.translate(punct_to_null)\n",
    "            a = a.translate(punct_to_null)\n",
    "            q = q.strip().split(' ')\n",
    "            a = a.strip().split(' ')\n",
    "            q = q[1:]\n",
    "            q = list(map(word2vec,q))\n",
    "            questions.append(q)\n",
    "            if len(q)>max_question_len:\n",
    "                max_question_len = len(q)\n",
    "            answers.append(list(map(vocab.index,a)))\n",
    "            \n",
    "        else: \n",
    "            punct_to_null = str.maketrans('','',string.punctuation)\n",
    "            line = line.translate(punct_to_null)\n",
    "            fact = line.strip().split(' ') \n",
    "            fact = fact[1:]\n",
    "            fact = list(map(word2vec,fact))\n",
    "            fact_story.append(fact)\n",
    "            if len(fact)>max_fact_len:\n",
    "                max_fact_len=len(fact)\n",
    "\n",
    "        if flag_end_story == 1: \n",
    "            fact_stories.append(fact_story)  \n",
    "            fact_story = [] \n",
    "            \n",
    "    file.close()\n",
    "        \n",
    "    return fact_stories,questions,answers,max_fact_len,max_question_len\n",
    "\n",
    "fact_stories,questions,answers,max_fact_len,max_question_len = extract_info(filename,max_fact_len,max_question_len)\n",
    "\n",
    "filename = 'qa16_basic-induction_test.txt' \n",
    "\n",
    "test_fact_stories,test_questions,test_answers,max_fact_len,max_question_len = extract_info(filename,max_fact_len,max_question_len)\n"
   ]
  },
  {
   "cell_type": "code",
   "execution_count": 24,
   "metadata": {
    "pycharm": {
     "is_executing": false
    }
   },
   "outputs": [
    {
     "name": "stdout",
     "text": [
      "4\n",
      "4\n"
     ],
     "output_type": "stream"
    }
   ],
   "source": [
    "print(max_fact_len)\n",
    "print(max_question_len)"
   ]
  },
  {
   "cell_type": "code",
   "execution_count": 25,
   "metadata": {
    "pycharm": {
     "is_executing": false
    }
   },
   "outputs": [
    {
     "name": "stdout",
     "text": [
      "<map object at 0x1a6b07f98>\n"
     ],
     "output_type": "stream"
    }
   ],
   "source": [
    "print(map(vec2word,fact_stories[0][0]))"
   ]
  },
  {
   "cell_type": "code",
   "execution_count": 26,
   "metadata": {
    "pycharm": {
     "is_executing": false
    }
   },
   "outputs": [
    {
     "name": "stdout",
     "text": [
      "['lily', 'is', 'a', 'swan']\n"
     ],
     "output_type": "stream"
    }
   ],
   "source": [
    "print(list(map(vec2word,test_fact_stories[0][0])))"
   ]
  },
  {
   "cell_type": "code",
   "execution_count": 27,
   "metadata": {
    "pycharm": {
     "is_executing": false
    }
   },
   "outputs": [],
   "source": [
    "PAD = word2vec('<PAD>')\n",
    "\n",
    "for i in range(0,len(questions)):\n",
    "    questions_len = len(questions[i])\n",
    "    for j in range(questions_len,max_question_len):\n",
    "        questions[i].append(PAD)\n",
    "    for j in range(0,len(fact_stories[i])):\n",
    "        fact_len = len(fact_stories[i][j])\n",
    "        for k in range(fact_len,max_fact_len):\n",
    "            fact_stories[i][j].append(PAD)\n",
    " "
   ]
  },
  {
   "cell_type": "code",
   "execution_count": 33,
   "metadata": {
    "pycharm": {
     "is_executing": false
    }
   },
   "outputs": [
    {
     "name": "stdout",
     "text": [
      "['bernhard', 'is', 'green', '<PAD>']\n",
      "['greg', 'is', 'a', 'swan']\n",
      "[array([-0.34441  ,  0.049968 ,  0.51707  , -1.231    , -0.093411 ,\n",
      "       -0.18565  ,  0.0699   , -0.52303  , -0.82522  , -1.1475   ,\n",
      "        0.34674  , -0.1359   , -0.017984 ,  0.66809  ,  0.12774  ,\n",
      "       -0.37846  ,  0.025387 ,  0.22753  , -1.0253   ,  0.93013  ,\n",
      "       -0.2632   ,  0.48023  ,  0.28662  ,  0.53986  ,  1.1494   ,\n",
      "       -0.43907  ,  0.16174  , -0.91663  , -0.08995  ,  0.38935  ,\n",
      "       -0.49759  ,  0.14868  ,  0.15115  ,  0.28914  ,  0.41117  ,\n",
      "       -0.22251  , -0.54574  ,  0.42889  ,  0.28374  ,  0.61235  ,\n",
      "       -0.15824  ,  0.24076  ,  0.55164  ,  0.45951  , -0.22147  ,\n",
      "        0.2297   , -0.66727  , -0.89064  ,  0.087901 , -0.86329  ,\n",
      "       -0.22344  ,  0.49091  , -0.66955  , -0.42588  ,  0.50533  ,\n",
      "       -1.8709   , -0.24871  ,  0.1457   ,  0.1216   ,  0.40008  ,\n",
      "        0.09388  , -0.2033   , -0.1014   ,  0.1109   ,  0.080344 ,\n",
      "       -0.83206  ,  0.83037  ,  0.61361  ,  0.076019 ,  0.67569  ,\n",
      "       -0.38394  ,  0.92468  , -1.0754   , -0.41224  ,  0.51606  ,\n",
      "       -0.012216 ,  0.10721  ,  0.1679   ,  0.13876  ,  0.77036  ,\n",
      "       -0.11653  , -0.5824   , -0.37383  , -0.087743 , -0.29965  ,\n",
      "        0.17696  ,  0.29503  ,  0.10752  , -0.12609  ,  0.20969  ,\n",
      "        0.24061  , -0.0063359,  0.36446  ,  0.20161  ,  0.35767  ,\n",
      "        0.92586  ,  0.025484 ,  0.10376  , -0.30628  ,  0.15179  ],\n",
      "      dtype=float32), array([-0.54264  ,  0.41476  ,  1.0322   , -0.40244  ,  0.46691  ,\n",
      "        0.21816  , -0.074864 ,  0.47332  ,  0.080996 , -0.22079  ,\n",
      "       -0.12808  , -0.1144   ,  0.50891  ,  0.11568  ,  0.028211 ,\n",
      "       -0.3628   ,  0.43823  ,  0.047511 ,  0.20282  ,  0.49857  ,\n",
      "       -0.10068  ,  0.13269  ,  0.16972  ,  0.11653  ,  0.31355  ,\n",
      "        0.25713  ,  0.092783 , -0.56826  , -0.52975  , -0.051456 ,\n",
      "       -0.67326  ,  0.92533  ,  0.2693   ,  0.22734  ,  0.66365  ,\n",
      "        0.26221  ,  0.19719  ,  0.2609   ,  0.18774  , -0.3454   ,\n",
      "       -0.42635  ,  0.13975  ,  0.56338  , -0.56907  ,  0.12398  ,\n",
      "       -0.12894  ,  0.72484  , -0.26105  , -0.26314  , -0.43605  ,\n",
      "        0.078908 , -0.84146  ,  0.51595  ,  1.3997   , -0.7646   ,\n",
      "       -3.1453   , -0.29202  , -0.31247  ,  1.5129   ,  0.52435  ,\n",
      "        0.21456  ,  0.42452  , -0.088411 , -0.17805  ,  1.1876   ,\n",
      "        0.10579  ,  0.76571  ,  0.21914  ,  0.35824  , -0.11636  ,\n",
      "        0.093261 , -0.62483  , -0.21898  ,  0.21796  ,  0.74056  ,\n",
      "       -0.43735  ,  0.14343  ,  0.14719  , -1.1605   , -0.050508 ,\n",
      "        0.12677  , -0.014395 , -0.98676  , -0.091297 , -1.2054   ,\n",
      "       -0.11974  ,  0.047847 , -0.54001  ,  0.52457  , -0.70963  ,\n",
      "       -0.32528  , -0.1346   , -0.41314  ,  0.33435  , -0.0072412,\n",
      "        0.32253  , -0.044219 , -1.2969   ,  0.76217  ,  0.46349  ],\n",
      "      dtype=float32), array([-0.27086  ,  0.044006 , -0.02026  , -0.17395  ,  0.6444   ,\n",
      "        0.71213  ,  0.3551   ,  0.47138  , -0.29637  ,  0.54427  ,\n",
      "       -0.72294  , -0.0047612,  0.040611 ,  0.043236 ,  0.29729  ,\n",
      "        0.10725  ,  0.40156  , -0.53662  ,  0.033382 ,  0.067396 ,\n",
      "        0.64556  , -0.085523 ,  0.14103  ,  0.094539 ,  0.74947  ,\n",
      "       -0.194    , -0.68739  , -0.41741  , -0.22807  ,  0.12     ,\n",
      "       -0.48999  ,  0.80945  ,  0.045138 , -0.11898  ,  0.20161  ,\n",
      "        0.39276  , -0.20121  ,  0.31354  ,  0.75304  ,  0.25907  ,\n",
      "       -0.11566  , -0.029319 ,  0.93499  , -0.36067  ,  0.5242   ,\n",
      "        0.23706  ,  0.52715  ,  0.22869  , -0.51958  , -0.79349  ,\n",
      "       -0.20368  , -0.50187  ,  0.18748  ,  0.94282  , -0.44834  ,\n",
      "       -3.6792   ,  0.044183 , -0.26751  ,  2.1997   ,  0.241    ,\n",
      "       -0.033425 ,  0.69553  , -0.64472  , -0.0072277,  0.89575  ,\n",
      "        0.20015  ,  0.46493  ,  0.61933  , -0.1066   ,  0.08691  ,\n",
      "       -0.4623   ,  0.18262  , -0.15849  ,  0.020791 ,  0.19373  ,\n",
      "        0.063426 , -0.31673  , -0.48177  , -1.3848   ,  0.13669  ,\n",
      "        0.96859  ,  0.049965 , -0.2738   , -0.035686 , -1.0577   ,\n",
      "       -0.24467  ,  0.90366  , -0.12442  ,  0.080776 , -0.83401  ,\n",
      "        0.57201  ,  0.088945 , -0.42532  , -0.018253 , -0.079995 ,\n",
      "       -0.28581  , -0.01089  , -0.4923   ,  0.63687  ,  0.23642  ],\n",
      "      dtype=float32), array([-0.25881  , -0.26039  ,  0.69453  , -0.11601  , -0.22028  ,\n",
      "       -0.0092747,  0.086787 ,  0.57248  , -0.55808  , -0.53136  ,\n",
      "       -1.0019   ,  0.91507  , -0.21506  ,  0.34647  , -0.020905 ,\n",
      "        0.15325  ,  0.78091  ,  0.021977 ,  0.45299  ,  0.20842  ,\n",
      "        0.36286  ,  0.50076  ,  0.15621  , -0.34306  , -0.027443 ,\n",
      "        0.6976   , -0.40166  ,  0.19983  , -0.093293 ,  0.18651  ,\n",
      "        0.20128  ,  0.0045434,  0.75656  , -0.20868  ,  0.31606  ,\n",
      "        0.16609  , -0.13469  ,  0.38435  ,  0.019324 , -0.8281   ,\n",
      "       -0.51182  , -0.089185 , -0.82917  ,  0.58885  ,  0.29212  ,\n",
      "        0.96237  , -0.38555  , -0.40524  ,  0.28359  ,  0.46488  ,\n",
      "       -0.60123  , -0.27211  ,  0.15975  ,  0.17398  , -0.57538  ,\n",
      "       -1.6368   , -0.19806  ,  0.35847  , -0.21939  , -0.032333 ,\n",
      "        0.35264  ,  0.36969  , -0.28759  ,  0.96618  ,  0.42028  ,\n",
      "        0.344    , -0.14854  ,  0.13044  ,  0.20505  , -0.26159  ,\n",
      "       -0.48837  , -0.15471  , -0.35533  , -0.19611  ,  0.41032  ,\n",
      "       -0.25624  , -0.12855  ,  0.595    , -0.41319  , -0.38975  ,\n",
      "       -0.27603  , -0.017984 ,  0.53587  , -0.10122  , -0.28332  ,\n",
      "       -0.25603  ,  0.049613 , -0.6964   ,  0.11142  ,  0.63764  ,\n",
      "        0.3422   , -0.61354  ,  0.046295 ,  0.40244  , -0.099922 ,\n",
      "        0.43841  , -1.0392   , -0.1273   , -0.48248  , -0.27688  ],\n",
      "      dtype=float32)]\n"
     ],
     "output_type": "stream"
    }
   ],
   "source": [
    "print(list(map(vec2word,fact_stories[0][2])))\n",
    "print(list(map(vec2word,test_fact_stories[0][2])))"
   ]
  },
  {
   "cell_type": "code",
   "execution_count": 29,
   "metadata": {
    "pycharm": {
     "is_executing": false
    }
   },
   "outputs": [],
   "source": [
    "for i in range(0,len(test_questions)):\n",
    "    questions_len = len(test_questions[i])\n",
    "    for j in range(questions_len,max_question_len):\n",
    "        test_questions[i].append(PAD)\n",
    "    for j in range(0,len(test_fact_stories[i])):\n",
    "        fact_len = len(test_fact_stories[i][j])\n",
    "        for k in range(fact_len,max_fact_len):\n",
    "            test_fact_stories[i][j].append(PAD)"
   ]
  },
  {
   "cell_type": "code",
   "execution_count": 30,
   "metadata": {
    "pycharm": {
     "is_executing": false
    }
   },
   "outputs": [
    {
     "name": "stdout",
     "text": [
      "['bernhard', 'is', 'white', '<PAD>']\n"
     ],
     "output_type": "stream"
    }
   ],
   "source": [
    "print(list(map(vec2word,test_fact_stories[0][3])))"
   ]
  },
  {
   "cell_type": "code",
   "execution_count": 35,
   "metadata": {
    "pycharm": {
     "is_executing": false
    }
   },
   "outputs": [
    {
     "name": "stdout",
     "text": [
      "(1000, 9, 4, 100)\n",
      "(1000, 4, 100)\n"
     ],
     "output_type": "stream"
    },
    {
     "traceback": [
      "\u001b[0;31m---------------------------------------------------------------------------\u001b[0m",
      "\u001b[0;31mTypeError\u001b[0m                                 Traceback (most recent call last)",
      "\u001b[0;32m<ipython-input-35-5359c50b11f3>\u001b[0m in \u001b[0;36m<module>\u001b[0;34m\u001b[0m\n\u001b[1;32m      4\u001b[0m \u001b[0mquestions\u001b[0m \u001b[0;34m=\u001b[0m \u001b[0mnp\u001b[0m\u001b[0;34m.\u001b[0m\u001b[0masarray\u001b[0m\u001b[0;34m(\u001b[0m\u001b[0mquestions\u001b[0m\u001b[0;34m,\u001b[0m\u001b[0mnp\u001b[0m\u001b[0;34m.\u001b[0m\u001b[0mfloat32\u001b[0m\u001b[0;34m)\u001b[0m\u001b[0;34m\u001b[0m\u001b[0;34m\u001b[0m\u001b[0m\n\u001b[1;32m      5\u001b[0m \u001b[0mprint\u001b[0m\u001b[0;34m(\u001b[0m\u001b[0mquestions\u001b[0m\u001b[0;34m.\u001b[0m\u001b[0mshape\u001b[0m\u001b[0;34m)\u001b[0m\u001b[0;34m\u001b[0m\u001b[0;34m\u001b[0m\u001b[0m\n\u001b[0;32m----> 6\u001b[0;31m \u001b[0manswers\u001b[0m \u001b[0;34m=\u001b[0m \u001b[0mnp\u001b[0m\u001b[0;34m.\u001b[0m\u001b[0masarray\u001b[0m\u001b[0;34m(\u001b[0m\u001b[0manswers\u001b[0m\u001b[0;34m,\u001b[0m\u001b[0mnp\u001b[0m\u001b[0;34m.\u001b[0m\u001b[0mfloat32\u001b[0m\u001b[0;34m)\u001b[0m\u001b[0;34m\u001b[0m\u001b[0;34m\u001b[0m\u001b[0m\n\u001b[0m\u001b[1;32m      7\u001b[0m \u001b[0mprint\u001b[0m\u001b[0;34m(\u001b[0m\u001b[0manswers\u001b[0m\u001b[0;34m.\u001b[0m\u001b[0mshape\u001b[0m\u001b[0;34m)\u001b[0m\u001b[0;34m\u001b[0m\u001b[0;34m\u001b[0m\u001b[0m\n\u001b[1;32m      8\u001b[0m \u001b[0mtest_fact_stories\u001b[0m \u001b[0;34m=\u001b[0m \u001b[0mnp\u001b[0m\u001b[0;34m.\u001b[0m\u001b[0masarray\u001b[0m\u001b[0;34m(\u001b[0m\u001b[0mtest_fact_stories\u001b[0m\u001b[0;34m,\u001b[0m\u001b[0mnp\u001b[0m\u001b[0;34m.\u001b[0m\u001b[0mfloat32\u001b[0m\u001b[0;34m)\u001b[0m\u001b[0;34m\u001b[0m\u001b[0;34m\u001b[0m\u001b[0m\n",
      "\u001b[0;32m/Library/Frameworks/Python.framework/Versions/3.7/lib/python3.7/site-packages/numpy/core/_asarray.py\u001b[0m in \u001b[0;36masarray\u001b[0;34m(a, dtype, order)\u001b[0m\n\u001b[1;32m     83\u001b[0m \u001b[0;34m\u001b[0m\u001b[0m\n\u001b[1;32m     84\u001b[0m     \"\"\"\n\u001b[0;32m---> 85\u001b[0;31m     \u001b[0;32mreturn\u001b[0m \u001b[0marray\u001b[0m\u001b[0;34m(\u001b[0m\u001b[0ma\u001b[0m\u001b[0;34m,\u001b[0m \u001b[0mdtype\u001b[0m\u001b[0;34m,\u001b[0m \u001b[0mcopy\u001b[0m\u001b[0;34m=\u001b[0m\u001b[0;32mFalse\u001b[0m\u001b[0;34m,\u001b[0m \u001b[0morder\u001b[0m\u001b[0;34m=\u001b[0m\u001b[0morder\u001b[0m\u001b[0;34m)\u001b[0m\u001b[0;34m\u001b[0m\u001b[0;34m\u001b[0m\u001b[0m\n\u001b[0m\u001b[1;32m     86\u001b[0m \u001b[0;34m\u001b[0m\u001b[0m\n\u001b[1;32m     87\u001b[0m \u001b[0;34m\u001b[0m\u001b[0m\n",
      "\u001b[0;31mTypeError\u001b[0m: float() argument must be a string or a number, not 'map'"
     ],
     "ename": "TypeError",
     "evalue": "float() argument must be a string or a number, not 'map'",
     "output_type": "error"
    }
   ],
   "source": [
    "fact_stories = np.asarray(fact_stories,np.float32)\n",
    "print(fact_stories.shape)\n",
    "questions = np.asarray(questions,np.float32)\n",
    "print(questions.shape)\n",
    "answers = np.asarray(answers,np.float32)\n",
    "print(answers.shape)\n",
    "test_fact_stories = np.asarray(test_fact_stories,np.float32)\n",
    "print(test_fact_stories.shape)\n",
    "test_questions = np.asarray(test_questions,np.float32)\n",
    "print(test_questions.shape)\n",
    "test_answers = np.asarray(test_answers,np.float32)\n",
    "print(test_answers.shape)"
   ]
  },
  {
   "cell_type": "code",
   "execution_count": null,
   "metadata": {
    "pycharm": {
     "is_executing": false
    }
   },
   "outputs": [],
   "source": [
    "#Saving processed data in another file.\n",
    "\n",
    "import pickle\n",
    "\n",
    "PICK = [fact_stories,questions,answers,test_fact_stories,test_questions,test_answers]\n",
    "\n",
    "with open('embeddingPICKLE', 'wb') as fp:\n",
    "    pickle.dump(PICK, fp)"
   ]
  },
  {
   "cell_type": "code",
   "execution_count": null,
   "metadata": {
    "pycharm": {
     "is_executing": false
    }
   },
   "outputs": [],
   "source": []
  }
 ],
 "metadata": {
  "kernelspec": {
   "name": "python3",
   "language": "python",
   "display_name": "Python 3"
  },
  "language_info": {
   "codemirror_mode": {
    "name": "ipython",
    "version": 2
   },
   "file_extension": ".py",
   "mimetype": "text/x-python",
   "name": "python",
   "nbconvert_exporter": "python",
   "pygments_lexer": "ipython2",
   "version": "2.7.12"
  },
  "pycharm": {
   "stem_cell": {
    "cell_type": "raw",
    "source": [],
    "metadata": {
     "collapsed": false
    }
   }
  }
 },
 "nbformat": 4,
 "nbformat_minor": 2
}